{
  "nbformat": 4,
  "nbformat_minor": 0,
  "metadata": {
    "colab": {
      "provenance": []
    },
    "kernelspec": {
      "name": "python3",
      "display_name": "Python 3"
    },
    "language_info": {
      "name": "python"
    }
  },
  "cells": [
    {
      "cell_type": "code",
      "execution_count": 3,
      "metadata": {
        "colab": {
          "base_uri": "https://localhost:8080/"
        },
        "id": "NcWfZvJ4K7cX",
        "outputId": "a33958b2-d345-4041-cedf-0fb5f456b34e"
      },
      "outputs": [
        {
          "output_type": "stream",
          "name": "stdout",
          "text": [
            "Collecting phonenumbers\n",
            "  Downloading phonenumbers-8.13.37-py2.py3-none-any.whl (2.6 MB)\n",
            "\u001b[2K     \u001b[90m━━━━━━━━━━━━━━━━━━━━━━━━━━━━━━━━━━━━━━━━\u001b[0m \u001b[32m2.6/2.6 MB\u001b[0m \u001b[31m12.0 MB/s\u001b[0m eta \u001b[36m0:00:00\u001b[0m\n",
            "\u001b[?25hInstalling collected packages: phonenumbers\n",
            "Successfully installed phonenumbers-8.13.37\n"
          ]
        }
      ],
      "source": [
        "pip install phonenumbers\n"
      ]
    },
    {
      "cell_type": "code",
      "source": [
        "import phonenumbers\n",
        "from phonenumbers import timezone\n",
        "from phonenumbers import geocoder\n",
        "from phonenumbers import carrier\n"
      ],
      "metadata": {
        "id": "_ep6NaFiLRU5"
      },
      "execution_count": 4,
      "outputs": []
    },
    {
      "cell_type": "code",
      "source": [
        "number = input(\"Enter the phone number with country code : \")\n"
      ],
      "metadata": {
        "colab": {
          "base_uri": "https://localhost:8080/"
        },
        "id": "l9CM84DPLUag",
        "outputId": "5a50539c-aee3-4c2e-b46f-7ca5d991c8a8"
      },
      "execution_count": 11,
      "outputs": [
        {
          "name": "stdout",
          "output_type": "stream",
          "text": [
            "Enter the phone number with country code : +916360461270\n"
          ]
        }
      ]
    },
    {
      "cell_type": "code",
      "source": [
        "phoneNumber = phonenumbers.parse(number)\n"
      ],
      "metadata": {
        "id": "sgS-voerLX6u"
      },
      "execution_count": 12,
      "outputs": []
    },
    {
      "cell_type": "code",
      "source": [
        "timeZone = timezone.time_zones_for_number(phoneNumber)\n",
        "print(\"timezone : \"+str(timeZone))\n"
      ],
      "metadata": {
        "colab": {
          "base_uri": "https://localhost:8080/"
        },
        "id": "nLMkCOyiLisy",
        "outputId": "43d0faa5-a485-4a14-ccbb-f4dbb42f5acd"
      },
      "execution_count": 13,
      "outputs": [
        {
          "output_type": "stream",
          "name": "stdout",
          "text": [
            "timezone : ('Asia/Calcutta',)\n"
          ]
        }
      ]
    },
    {
      "cell_type": "code",
      "source": [
        "geolocation = geocoder.description_for_number(phoneNumber,\"en\")\n",
        "print(\"location : \"+geolocation)\n"
      ],
      "metadata": {
        "colab": {
          "base_uri": "https://localhost:8080/"
        },
        "id": "Pp9BclH8MZGo",
        "outputId": "0186b6d1-6d21-4ad4-c346-1ab6c746145d"
      },
      "execution_count": 14,
      "outputs": [
        {
          "output_type": "stream",
          "name": "stdout",
          "text": [
            "location : India\n"
          ]
        }
      ]
    },
    {
      "cell_type": "code",
      "source": [
        "service = carrier.name_for_number(phoneNumber,\"en\")\n",
        "print(\"service provider : \"+service)"
      ],
      "metadata": {
        "colab": {
          "base_uri": "https://localhost:8080/"
        },
        "id": "u601_M-_Mc1N",
        "outputId": "e6a32646-adbd-4fb2-b4ce-79020d292237"
      },
      "execution_count": 15,
      "outputs": [
        {
          "output_type": "stream",
          "name": "stdout",
          "text": [
            "service provider : Reliance Jio\n"
          ]
        }
      ]
    },
    {
      "cell_type": "code",
      "source": [],
      "metadata": {
        "id": "aawQR9ypMh-f"
      },
      "execution_count": null,
      "outputs": []
    }
  ]
}